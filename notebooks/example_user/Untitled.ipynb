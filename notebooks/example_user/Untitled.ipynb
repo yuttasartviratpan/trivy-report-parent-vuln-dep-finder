{
 "cells": [
  {
   "cell_type": "code",
   "execution_count": 3,
   "id": "14146b80",
   "metadata": {
    "ExecuteTime": {
     "end_time": "2022-08-01T18:01:07.705648Z",
     "start_time": "2022-08-01T18:01:07.702769Z"
    }
   },
   "outputs": [],
   "source": [
    "import trivy_script_project"
   ]
  },
  {
   "cell_type": "code",
   "execution_count": 4,
   "id": "acc21fca",
   "metadata": {
    "ExecuteTime": {
     "end_time": "2022-08-01T18:01:07.935184Z",
     "start_time": "2022-08-01T18:01:07.918851Z"
    }
   },
   "outputs": [
    {
     "data": {
      "text/plain": [
       "6"
      ]
     },
     "execution_count": 4,
     "metadata": {},
     "output_type": "execute_result"
    }
   ],
   "source": [
    "trivy_script_project.add_numbers(2,4)"
   ]
  },
  {
   "cell_type": "code",
   "execution_count": null,
   "id": "23d884f6",
   "metadata": {},
   "outputs": [],
   "source": []
  }
 ],
 "metadata": {
  "hide_input": false,
  "kernelspec": {
   "display_name": "trivy_script_project",
   "language": "python",
   "name": "trivy_script_project"
  },
  "language_info": {
   "codemirror_mode": {
    "name": "ipython",
    "version": 3
   },
   "file_extension": ".py",
   "mimetype": "text/x-python",
   "name": "python",
   "nbconvert_exporter": "python",
   "pygments_lexer": "ipython3",
   "version": "3.9.13"
  },
  "toc": {
   "colors": {
    "hover_highlight": "#DAA520",
    "running_highlight": "#FF0000",
    "selected_highlight": "#FFD700"
   },
   "moveMenuLeft": true,
   "nav_menu": {
    "height": "11.9886px",
    "width": "251.989px"
   },
   "navigate_menu": true,
   "number_sections": false,
   "sideBar": true,
   "threshold": 4,
   "toc_cell": false,
   "toc_section_display": "block",
   "toc_window_display": false
  }
 },
 "nbformat": 4,
 "nbformat_minor": 5
}
